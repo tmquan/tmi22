{
 "cells": [
  {
   "cell_type": "code",
   "execution_count": 1,
   "metadata": {},
   "outputs": [
    {
     "name": "stderr",
     "output_type": "stream",
     "text": [
      "/home/qtran/anaconda3/lib/python3.8/site-packages/nxviz/__init__.py:18: UserWarning: \n",
      "nxviz has a new API! Version 0.7.3 onwards, the old class-based API is being\n",
      "deprecated in favour of a new API focused on advancing a grammar of network\n",
      "graphics. If your plotting code depends on the old API, please consider\n",
      "pinning nxviz at version 0.7.3, as the new API will break your old code.\n",
      "\n",
      "To check out the new API, please head over to the docs at\n",
      "https://ericmjl.github.io/nxviz/ to learn more. We hope you enjoy using it!\n",
      "\n",
      "(This deprecation message will go away in version 1.0.)\n",
      "\n",
      "  warnings.warn(\n"
     ]
    }
   ],
   "source": [
    "import networkx as nx\n",
    "import nxviz as nv\n",
    "import pandas as pd\n",
    "\n",
    "import numpy as np\n",
    "import matplotlib.pyplot as plt\n",
    "%matplotlib inline"
   ]
  },
  {
   "cell_type": "code",
   "execution_count": 2,
   "metadata": {},
   "outputs": [
    {
     "name": "stderr",
     "output_type": "stream",
     "text": [
      "/home/qtran/anaconda3/lib/python3.8/site-packages/openpyxl/worksheet/_reader.py:312: UserWarning: Unknown extension is not supported and will be removed\n",
      "  warn(msg)\n"
     ]
    },
    {
     "data": {
      "text/plain": [
       "Index(['verse_ID', 'subject_ID', 'dataset', 'age_ct', 'CT_device', 'Res',\n",
       "       'BMD', 'DXA T-value', 'CT_image_series', 'N_vertebrae',\n",
       "       'foreign_material', 'N_Fx', 'T1_fx-g', 'T2_fx-g', 'T3_fx-g', 'T4_fx-g',\n",
       "       'T5_fx-g', 'T6_fx-g', 'T7_fx-g', 'T8_fx-g', 'T9_fx-g', 'T10_fx-g',\n",
       "       'T11_fx-g', 'T12_fx-g', 'L1_fx-g', 'L2_fx-g', 'L3_fx-g', 'L4_fx-g',\n",
       "       'L5_fx-g', 'L6_fx-g', 'T1_fx-s', 'T2_fx-s', 'T3_fx-s', 'T4_fx-s',\n",
       "       'T5_fx-s', 'T6_fx-s', 'T7_fx-s', 'T8_fx-s', 'T9_fx-s', 'T10_fx-s',\n",
       "       'T11_fx-s', 'T12_fx-s', 'L1_fx-s', 'L2_fx-s', 'L3_fx-s', 'L4_fx-s',\n",
       "       'L5_fx-s', 'L6_fx-s'],\n",
       "      dtype='object')"
      ]
     },
     "execution_count": 2,
     "metadata": {},
     "output_type": "execute_result"
    }
   ],
   "source": [
    "df = pd.read_excel('ryai190138_appendixe1.xlsx')\n",
    "dfg = df[['T1_fx-g', 'T2_fx-g', 'T3_fx-g', 'T4_fx-g',\n",
    "       'T5_fx-g', 'T6_fx-g', 'T7_fx-g', 'T8_fx-g', 'T9_fx-g', 'T10_fx-g',\n",
    "       'T11_fx-g', 'T12_fx-g', 'L1_fx-g', 'L2_fx-g', 'L3_fx-g', 'L4_fx-g',\n",
    "       'L5_fx-g', 'L6_fx-g']]\n",
    "\n",
    "dfs = df[['T1_fx-s', 'T2_fx-s', 'T3_fx-s', 'T4_fx-s',\n",
    "       'T5_fx-s', 'T6_fx-s', 'T7_fx-s', 'T8_fx-s', 'T9_fx-s', 'T10_fx-s',\n",
    "       'T11_fx-s', 'T12_fx-s', 'L1_fx-s', 'L2_fx-s', 'L3_fx-s', 'L4_fx-s',\n",
    "       'L5_fx-s', 'L6_fx-s']]\n",
    "\n",
    "df.columns"
   ]
  },
  {
   "cell_type": "code",
   "execution_count": 3,
   "metadata": {},
   "outputs": [
    {
     "data": {
      "image/png": "[encoded data removed]",
      "text/plain": [
       "<Figure size 720x576 with 1 Axes>"
      ]
     },
     "metadata": {},
     "output_type": "display_data"
    }
   ],
   "source": [
    "Gs = nx.grid_2d_graph( 1, 18) # Spine with 18 nodes\n",
    "Gf = nx.grid_2d_graph(16, 18) # Each node has 16 features\n",
    "\n",
    "names = [\"T1\", \"T2\", \"T3\", \"T4\", \"T5\", \"T6\", \"T7\", \"T8\", \"T9\", \"T10\", \"T11\", \"T12\", \n",
    "         \"L1\", \"L2\", \"L3\", \"L4\", \"L5\", \"L6\"]\n",
    "# labels = dict(((0, 18-k), v) for k, v in enumerate(names))\n",
    "\n",
    "def draw_grid(Gs, Gf, ax=None):\n",
    "    # if ax is None:\n",
    "    #     fig, ax = plt.subplots(1, 2, figsize=(6, 10))\n",
    "    # else:\n",
    "    #     fig = None\n",
    "\n",
    "    # Draw the spine so that it is behind the features\n",
    "    fig, _ = plt.subplots(1, 2, figsize=(10, 8), gridspec_kw={'width_ratios': [1, 3]})\n",
    "    ax = plt.subplot(1, 2, 1)\n",
    "    \n",
    "    node_color = []\n",
    "    node_label = {}\n",
    "    for i, n in enumerate(Gs):\n",
    "        node_color.append(i/20.)\n",
    "        node_label[n] = Gs.nodes[n].get('label', n)\n",
    "\n",
    "    edge_color = []\n",
    "    edge_width = []\n",
    "    for i, e in enumerate(Gs.edges()):\n",
    "        edge_color.append(Gs.edges[e].get('color', 'black'))\n",
    "        edge_width.append(Gs.edges[e].get('width', 1))\n",
    "\n",
    "    pos = dict(zip(Gs,Gs))\n",
    "    nx.draw_networkx_edges(Gs, pos=pos, \n",
    "        edge_color=edge_color, \n",
    "        # alpha=1, \n",
    "        # ax=ax, \n",
    "        width=5\n",
    "    )\n",
    "    nx.draw_networkx_nodes(Gs, pos=pos, \n",
    "        node_color=node_color, \n",
    "        cmap=plt.cm.tab20c, #PiYG,\n",
    "        # label=node_label,\n",
    "        # alpha=1, \n",
    "        # ax=ax, \n",
    "        node_shape='o', \n",
    "        node_size=400\n",
    "    )\n",
    "    fig.tight_layout()\n",
    "    # ax.axis('off')\n",
    "    # ax.autoscale()\n",
    "\n",
    "    # Draw the labels\n",
    "    labels = dict((n, s) for n, s in zip(Gs, reversed(names)) )\n",
    "    nx.draw_networkx_labels(Gs, pos, labels, \n",
    "        font_size=10, \n",
    "        font_color='black', \n",
    "        font_family='serif'\n",
    "        # font_color=\"whitesmoke\"\n",
    "        )\n",
    "\n",
    "    # Draw the features\n",
    "    # ax = plt.subplot(1, 2, 2)\n",
    "    \n",
    "    node_color = []\n",
    "    node_label = {}\n",
    "    for i, n in enumerate(Gf):\n",
    "        node_color.append(np.random.rand(1))\n",
    "        node_label[n] = Gf.nodes[n].get('label', n)\n",
    "\n",
    "    edge_color = []\n",
    "    edge_width = []\n",
    "    for i, e in enumerate(Gf.edges()):\n",
    "        edge_color.append(Gf.edges[e].get('color', 'black'))\n",
    "        edge_width.append(Gf.edges[e].get('width', 1))\n",
    "\n",
    "\n",
    "    # nx.draw_networkx_edges(Gf, pos=dict(zip(Gf,Gf)), \n",
    "    #     edge_color=edge_color, \n",
    "    #     # alpha=1, \n",
    "    #     # ax=ax, \n",
    "    #     width=5\n",
    "    # )\n",
    "    pos = dict(zip(Gf,Gf))\n",
    "    pos = {k: (v[0]+2., v[1]) for k, v in pos.items()}\n",
    "    nx.draw_networkx_nodes(Gf, pos=pos,\n",
    "        node_color=node_color, \n",
    "        cmap=plt.cm.RdPu, #PiYG, #RdPu,\n",
    "        # alpha=1, \n",
    "        # ax=ax, \n",
    "        node_shape='s', \n",
    "        node_size=200\n",
    "    )\n",
    "    fig.tight_layout()\n",
    "    # ax.axis('off')\n",
    "    # ax.autoscale()\n",
    "\n",
    "draw_grid(Gs, Gf)"
   ]
  },
  {
   "cell_type": "code",
   "execution_count": null,
   "metadata": {},
   "outputs": [],
   "source": []
  }
 ],
 "metadata": {
  "interpreter": {
   "hash": "dd0ba7896d619d2e23297155645cc474a0b2bf660f5d50e2d5184ff5ae24a4e1"
  },
  "kernelspec": {
   "display_name": "Python 3.8.8 64-bit ('base': conda)",
   "language": "python",
   "name": "python3"
  },
  "language_info": {
   "codemirror_mode": {
    "name": "ipython",
    "version": 3
   },
   "file_extension": ".py",
   "mimetype": "text/x-python",
   "name": "python",
   "nbconvert_exporter": "python",
   "pygments_lexer": "ipython3",
   "version": "3.8.8"
  },
  "orig_nbformat": 4
 },
 "nbformat": 4,
 "nbformat_minor": 2
}
