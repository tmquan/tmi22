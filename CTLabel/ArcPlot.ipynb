{
 "cells": [
  {
   "cell_type": "code",
   "execution_count": 1,
   "metadata": {},
   "outputs": [
    {
     "name": "stderr",
     "output_type": "stream",
     "text": [
      "/home/qtran/anaconda3/lib/python3.8/site-packages/nxviz/__init__.py:18: UserWarning: \n",
      "nxviz has a new API! Version 0.7.3 onwards, the old class-based API is being\n",
      "deprecated in favour of a new API focused on advancing a grammar of network\n",
      "graphics. If your plotting code depends on the old API, please consider\n",
      "pinning nxviz at version 0.7.3, as the new API will break your old code.\n",
      "\n",
      "To check out the new API, please head over to the docs at\n",
      "https://ericmjl.github.io/nxviz/ to learn more. We hope you enjoy using it!\n",
      "\n",
      "(This deprecation message will go away in version 1.0.)\n",
      "\n",
      "  warnings.warn(\n"
     ]
    }
   ],
   "source": [
    "import networkx as nx\n",
    "import nxviz as nv\n",
    "import pandas as pd\n",
    "\n",
    "import numpy as np\n",
    "import matplotlib.pyplot as plt\n",
    "%matplotlib inline"
   ]
  },
  {
   "cell_type": "code",
   "execution_count": 2,
   "metadata": {},
   "outputs": [
    {
     "name": "stderr",
     "output_type": "stream",
     "text": [
      "/home/qtran/anaconda3/lib/python3.8/site-packages/openpyxl/worksheet/_reader.py:312: UserWarning: Unknown extension is not supported and will be removed\n",
      "  warn(msg)\n"
     ]
    },
    {
     "data": {
      "text/plain": [
       "Index(['verse_ID', 'subject_ID', 'dataset', 'age_ct', 'CT_device', 'Res',\n",
       "       'BMD', 'DXA T-value', 'CT_image_series', 'N_vertebrae',\n",
       "       'foreign_material', 'N_Fx', 'T1_fx-g', 'T2_fx-g', 'T3_fx-g', 'T4_fx-g',\n",
       "       'T5_fx-g', 'T6_fx-g', 'T7_fx-g', 'T8_fx-g', 'T9_fx-g', 'T10_fx-g',\n",
       "       'T11_fx-g', 'T12_fx-g', 'L1_fx-g', 'L2_fx-g', 'L3_fx-g', 'L4_fx-g',\n",
       "       'L5_fx-g', 'L6_fx-g', 'T1_fx-s', 'T2_fx-s', 'T3_fx-s', 'T4_fx-s',\n",
       "       'T5_fx-s', 'T6_fx-s', 'T7_fx-s', 'T8_fx-s', 'T9_fx-s', 'T10_fx-s',\n",
       "       'T11_fx-s', 'T12_fx-s', 'L1_fx-s', 'L2_fx-s', 'L3_fx-s', 'L4_fx-s',\n",
       "       'L5_fx-s', 'L6_fx-s'],\n",
       "      dtype='object')"
      ]
     },
     "execution_count": 2,
     "metadata": {},
     "output_type": "execute_result"
    }
   ],
   "source": [
    "df = pd.read_excel('ryai190138_appendixe1.xlsx')\n",
    "dfg = df[['T1_fx-g', 'T2_fx-g', 'T3_fx-g', 'T4_fx-g',\n",
    "       'T5_fx-g', 'T6_fx-g', 'T7_fx-g', 'T8_fx-g', 'T9_fx-g', 'T10_fx-g',\n",
    "       'T11_fx-g', 'T12_fx-g', 'L1_fx-g', 'L2_fx-g', 'L3_fx-g', 'L4_fx-g',\n",
    "       'L5_fx-g', 'L6_fx-g']]\n",
    "\n",
    "dfs = df[['T1_fx-s', 'T2_fx-s', 'T3_fx-s', 'T4_fx-s',\n",
    "       'T5_fx-s', 'T6_fx-s', 'T7_fx-s', 'T8_fx-s', 'T9_fx-s', 'T10_fx-s',\n",
    "       'T11_fx-s', 'T12_fx-s', 'L1_fx-s', 'L2_fx-s', 'L3_fx-s', 'L4_fx-s',\n",
    "       'L5_fx-s', 'L6_fx-s']]\n",
    "\n",
    "df.columns"
   ]
  },
  {
   "cell_type": "code",
   "execution_count": 3,
   "metadata": {},
   "outputs": [
    {
     "data": {
      "image/png": "[encoded data removed]",
      "text/plain": [
       "<Figure size 432x288 with 1 Axes>"
      ]
     },
     "metadata": {},
     "output_type": "display_data"
    }
   ],
   "source": [
    "G = nx.Graph()\n",
    "G.add_nodes_from(\n",
    "    {k for k in np.arange(18)},\n",
    ")\n",
    "G.add_edges_from(\n",
    "    {(u, v) for u, v in zip(np.arange(17), np.arange(1, 18))},\n",
    ")\n",
    "\n",
    "# H = nx.path_graph(18)\n",
    "# G = nx.Graph()\n",
    "# # G.add_nodes_from(H)\n",
    "# # G.add_edges_from(H)\n",
    "# nx.draw(G)\n",
    "\n",
    "# nv.ArcPlot(G, \n",
    "#     )\n",
    "nx.draw(G, \n",
    "    # node_order=np.arange(18), \n",
    "    node_color='#ff0000', node_size=200, \n",
    "    # node_alpha=0.5, \n",
    "    node_shape='o', \n",
    "    # node_label='', \n",
    "    edge_color='#000000', \n",
    "    # edge_alpha=0.5, \n",
    "    # edge_width=1, \n",
    "    # edge_label='', \n",
    "    font_size=12, \n",
    "    # font_color='#000000', \n",
    "    # font_family='sans-serif', font_weight='normal', font_style='normal', label='', \n",
    "    # bbox=(0, 0, 0, 0), \n",
    "    # margin=10, \n",
    "    # ax=None\n",
    ")"
   ]
  },
  {
   "cell_type": "code",
   "execution_count": 4,
   "metadata": {},
   "outputs": [
    {
     "data": {
      "image/png": "[encoded data removed]",
      "text/plain": [
       "<Figure size 288x720 with 1 Axes>"
      ]
     },
     "metadata": {},
     "output_type": "display_data"
    }
   ],
   "source": [
    "G = nx.grid_2d_graph(1, 18)\n",
    "\n",
    "for u, v in zip(np.arange(17), np.arange(1, 18)):\n",
    "    pass\n",
    "    # if u!=v:\n",
    "    #     G.add_edge(u, v)\n",
    "\n",
    "# Set all weights to 1\n",
    "for edge in G.edges:\n",
    "    G.edges[edge]['weight'] = 1\n",
    "# \n",
    "def draw_grid(G, ax=None):\n",
    "    pos = dict(zip(G,G))\n",
    "    if ax is None:\n",
    "        fig, ax = plt.subplots(1, 1, figsize=(4, 10))\n",
    "    else:\n",
    "        fig = None\n",
    "    \n",
    "    node_color = []\n",
    "    node_label = {}\n",
    "    for i, n in enumerate(G):\n",
    "        # node_color.append(np.random.rand(1))\n",
    "        node_color.append(i/18.)\n",
    "        node_label[n] = G.nodes[n].get('label', n)\n",
    "\n",
    "    edge_color = []\n",
    "    edge_width = []\n",
    "    for e in G.edges():\n",
    "        edge_color.append(G.edges[e].get('color', 'black'))\n",
    "        edge_width.append(G.edges[e].get('width', 5))\n",
    "\n",
    "    nx.draw_networkx_edges(G, pos=pos, \n",
    "        edge_color=edge_color, alpha=1, ax=ax, width=5\n",
    "    )\n",
    "    nx.draw_networkx_nodes(G, pos=pos, \n",
    "        node_color=node_color, \n",
    "        cmap=plt.cm.PiYG,\n",
    "        alpha=1, ax=ax, \n",
    "        node_shape='o', \n",
    "        node_size=500\n",
    "    )\n",
    "    fig.tight_layout()\n",
    "    ax.axis('off')\n",
    "    ax.autoscale()\n",
    "draw_grid(G)"
   ]
  },
  {
   "cell_type": "code",
   "execution_count": null,
   "metadata": {},
   "outputs": [],
   "source": []
  }
 ],
 "metadata": {
  "interpreter": {
   "hash": "dd0ba7896d619d2e23297155645cc474a0b2bf660f5d50e2d5184ff5ae24a4e1"
  },
  "kernelspec": {
   "display_name": "Python 3.8.8 64-bit ('base': conda)",
   "language": "python",
   "name": "python3"
  },
  "language_info": {
   "codemirror_mode": {
    "name": "ipython",
    "version": 3
   },
   "file_extension": ".py",
   "mimetype": "text/x-python",
   "name": "python",
   "nbconvert_exporter": "python",
   "pygments_lexer": "ipython3",
   "version": "3.8.8"
  },
  "orig_nbformat": 4
 },
 "nbformat": 4,
 "nbformat_minor": 2
}
